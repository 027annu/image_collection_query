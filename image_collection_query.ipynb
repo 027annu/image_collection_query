{
 "cells": [
  {
   "cell_type": "code",
   "execution_count": 1,
   "id": "898b4ab1-fbb8-4295-8e13-3221d9e35187",
   "metadata": {},
   "outputs": [],
   "source": [
    "import requests\n",
    "import logging\n",
    "import os\n",
    "from bs4 import BeautifulSoup\n",
    "from urllib.request import urlopen"
   ]
  },
  {
   "cell_type": "code",
   "execution_count": 6,
   "id": "c327ab40-f8fd-4332-8937-df39152b4d17",
   "metadata": {},
   "outputs": [],
   "source": [
    "save_dir='images/'\n",
    "if not os.path.exists(save_dir):\n",
    "    os.makedirs(save_dir)    "
   ]
  },
  {
   "cell_type": "code",
   "execution_count": 36,
   "id": "f74ecc6b-241d-4908-a225-5419551de64b",
   "metadata": {},
   "outputs": [],
   "source": [
    "query=\"anushka sharma\""
   ]
  },
  {
   "cell_type": "code",
   "execution_count": 38,
   "id": "64b8da1f-3530-4e03-8d65-b3a358f1c2a7",
   "metadata": {},
   "outputs": [],
   "source": [
    "response=requests.get(f\"https://www.google.com/search?q={query}&tbm=isch&ved=2ahUKEwi2zbqTmJ-BAxWX2jgGHUByAekQ2-cCegQIABAA&oq=elon+musk&gs_lcp=CgNpbWcQARgAMgQIIxAnMgoIABCKBRCxAxBDMggIABCABBCxAzIHCAAQigUQQzIICAAQgAQQsQMyCAgAEIAEELEDMgoIABCKBRCxAxBDMggIABCABBCxAzIHCAAQigUQQzIICAAQgAQQsQNQAFgAYP8KaABwAHgAgAF9iAF9kgEDMC4xmAEAqgELZ3dzLXdpei1pbWfAAQE&sclient=img&ei=tUP9ZPaeOJe14-EPwOSFyA4&bih=603&biw=1280&rlz=1C1GCEA_enIN1063IN1064\")"
   ]
  },
  {
   "cell_type": "code",
   "execution_count": 16,
   "id": "cea0cd67-0784-4af0-987d-33d9c8113282",
   "metadata": {},
   "outputs": [
    {
     "data": {
      "text/plain": [
       "<Response [200]>"
      ]
     },
     "execution_count": 16,
     "metadata": {},
     "output_type": "execute_result"
    }
   ],
   "source": [
    "response"
   ]
  },
  {
   "cell_type": "code",
   "execution_count": 39,
   "id": "d9e9dbc8-a3f1-4021-a856-622c1b91e2a8",
   "metadata": {},
   "outputs": [],
   "source": [
    "soup=BeautifulSoup(response.content,\"html.parser\")"
   ]
  },
  {
   "cell_type": "code",
   "execution_count": 23,
   "id": "3bf91800-0868-464d-b583-bb3e1b1bd927",
   "metadata": {},
   "outputs": [
    {
     "data": {
      "text/plain": [
       "<!DOCTYPE html PUBLIC \"-//WAPFORUM//DTD XHTML Mobile 1.0//EN\" \"http://www.wapforum.org/DTD/xhtml-mobile10.dtd\">\n",
       "<html lang=\"en-IN\" xmlns=\"http://www.w3.org/1999/xhtml\"><head><meta content=\"application/xhtml+xml; charset=utf-8\" http-equiv=\"Content-Type\"/><meta content=\"no-cache\" name=\"Cache-Control\"/><title>elon mask - Google Search</title><style>a{text-decoration:none;color:inherit}a:hover{text-decoration:underline}a img{border:0}body{font-family:arial,sans-serif;padding:8px;margin:0 auto;max-width:700px;min-width:240px;}.FbhRzb{border-left:thin solid #dadce0;border-right:thin solid #dadce0;border-top:thin solid #dadce0;height:40px;overflow:hidden}.n692Zd{margin-bottom:10px}.cvifge{height:40px;border-spacing:0}.QvGUP{height:40px;padding:0 8px 0 8px;vertical-align:top}.O4cRJf{height:40px;width:100%;padding:0;padding-right:16px}.O1ePr{height:40px;padding:0;vertical-align:top}.kgJEQe{height:36px;width:98px;vertical-align:top;margin-top:4px}.lXLRf{vertical-align:top}.MhzMZd{border:0;vertical-align:middle;font-size:14px;height:40px;padding:0;width:100%;padding-left:16px}.xB0fq{height:40px;border:none;font-size:14px;background-color:#1a73e8;color:#fff;padding:0 16px;margin:0;vertical-align:top;cursor:pointer}.xB0fq:focus{border:1px solid #1a73e8}.M7pB2{border:thin solid #dadce0;margin:0 0 3px 0;font-size:13px;font-weight:500;height:40px}.euZec{width:100%;height:40px;text-align:center;border-spacing:0}table.euZec td{padding:0;width:25%}.QIqI7{display:inline-block;padding-top:4px;font-weight:bold;color:#4285f4}.EY24We{border-bottom:2px solid #4285f4}.CsQyDc{display:inline-block;color:#70757a}.TuS8Ad{font-size:14px}.HddGcc{padding:8px;color:#70757a}.dzp8ae{font-weight:bold;color:#3c4043}.rEM8G{color:#70757a}.bookcf{table-layout:fixed;width:100%;border-spacing:0}.InWNIe{text-align:center}.uZgmoc{border:thin solid #dadce0;color:#70757a;font-size:14px;text-align:center;table-layout:fixed;width:100%}.frGj1b{display:block;padding:12px 0 12px 0;width:100%}.BnJWBc{text-align:center;padding:6px 0 13px 0;height:35px}.e3goi{vertical-align:top;padding:0;height:180px}.GpQGbf{margin:auto;border-collapse:collapse;border-spacing:0;width:100%}</style></head><body><style>.X6ZCif{color:#202124;font-size:11px;line-height:16px;display:inline-block;padding-top:2px;overflow:hidden;padding-bottom:4px;width:100%}.TwVfHd{border-radius:16px;border:thin solid #dadce0;display:inline-block;padding:8px 8px;margin-right:8px;margin-bottom:4px}.yekiAe{background-color:#dadce0}.ezO2md{border:thin solid #dadce0;padding:12px 16px 12px 16px;margin-bottom:10px;font-family:arial,sans-serif}.lIMUZd{font-family:arial,sans-serif}.kk667b{padding-bottom:12px}.Mw6wOc{width:100%;border-spacing:0}.fBgPuf{padding-bottom:12px}.K3JWGf{display:block;float:right;padding-left:16px;max-width:72px;max-height:72px}.CSfvHb{padding-bottom:8px}.fYyStc{word-break:break-word}.ynsChf{display:block;white-space:nowrap;overflow:hidden;text-overflow:ellipsis}.Fj3V3b{color:#1967d2;font-size:14px;line-height:20px}.FrIlee{color:#202124;font-size:11px;line-height:16px}.F9iS2e{color:#70757a;font-size:11px;line-height:16px}.WMQ2Le{color:#70757a;font-size:12px;line-height:16px}.x3G5ab{color:#202124;font-size:12px;line-height:16px}.fuLhoc{color:#1967d2;font-size:16px;line-height:20px}.epoveb{font-size:24px;line-height:28px;font-weight:400;color:#202124}.dXDvrc{color:#0d652d;font-size:14px;line-height:20px;word-wrap:break-word}.dloBPe{font-weight:bold}.YVIcad{color:#70757a}.JkVVdd{color:#ea4335}.oXZRFd{color:#ea4335}.MQHtg{color:#fbbc04}.pyMRrb{color:#1e8e3e}.EtTZid{color:#1e8e3e}.M3vVJe{color:#1967d2}.qXLe6d{display:block}.NHQNef{font-style:italic}.Cb8Z7c{white-space:pre}a.ZWRArf{text-decoration:none}a .CVA68e:hover{text-decoration:underline}.jjVJ4e{width:100%}.RntSmf{border-spacing:0}.lgD2Tc{width:100%}.SpelHe{text-align:center}.SpelHe{position:relative}.deHqpb{bottom:0;left:0;margin:auto;position:absolute;right:0;top:0}.kCmkOe{position:relative}.ID6Z3b{background-image:url(\"data:image/svg+xml, %3Csvg height='20' fill='#fff' viewBox='0 96 960 960' width='20' xmlns='http://www.w3.org/2000/svg'%3E%3Cpath d='M792 1000 624 834q-35 11-70.5 16.5T480 856q-151 0-269-83.5T40 556q21-53 53-98.5t73-81.5L56 264l56-56 736 736-56 56ZM480 736q11 0 20.5-1t20.5-4L305 515q-3 11-4 20.5t-1 20.5q0 75 52.5 127.5T480 736Zm292 18L645 628q7-17 11-34.5t4-37.5q0-75-52.5-127.5T480 376q-20 0-37.5 4T408 392L306 290q41-17 84-25.5t90-8.5q151 0 269 83.5T920 556q-23 59-60.5 109.5T772 754ZM587 570 467 450q28-5 51.5 4.5T559 482q17 18 24.5 41.5T587 570Z'%3E%3C/path%3E%3C/svg%3E\");background-repeat:no-repeat;background-position:center;background-size:20px}.kCmkOe{width:162px;height:140px;line-height:140px;overflow:'hidden';text-align:center}.DS1iW{text-align:center;margin:auto;vertical-align:middle;max-width:162px;max-height:140px}.AlD19d{padding-top:2px;padding-bottom:8px;}</style><div class=\"n692Zd\"><div class=\"BnJWBc\"><a class=\"lXLRf\" href=\"/?sca_esv=564088781&amp;bih=603&amp;biw=1280&amp;rlz=1C1GCEA_enIN1063IN1064&amp;output=images&amp;ie=UTF-8&amp;tbm=isch&amp;sa=X&amp;ved=0ahUKEwjWgab7mZ-BAxX58DgGHfjrAZgQPAgC\"><img alt=\"Google\" class=\"kgJEQe\" src=\"/images/branding/searchlogo/1x/googlelogo_desk_heirloom_color_150x55dp.gif\"/></a></div><div class=\"FbhRzb\"><form action=\"/search\"><input name=\"sca_esv\" type=\"hidden\" value=\"564088781\"/><input name=\"bih\" type=\"hidden\" value=\"603\"/><input name=\"biw\" type=\"hidden\" value=\"1280\"/><input name=\"rlz\" type=\"hidden\" value=\"1C1GCEA_enIN1063IN1064\"/><input name=\"ie\" type=\"hidden\" value=\"ISO-8859-1\"/><input name=\"tbm\" type=\"hidden\" value=\"isch\"/><input name=\"oq\" type=\"hidden\"/><input name=\"aqs\" type=\"hidden\"/><table class=\"cvifge\"><tr><td class=\"O4cRJf\"><input class=\"MhzMZd\" name=\"q\" type=\"text\" value=\"elon mask\"/></td><td class=\"O1ePr\"><input class=\"xB0fq\" type=\"submit\" value=\"Search\"/></td></tr></table></form></div><div class=\"M7pB2\"><table class=\"euZec\"><tbody><tr><td><a class=\"CsQyDc\" href=\"/search?q=elon+musk&amp;sca_esv=564088781&amp;bih=603&amp;biw=1280&amp;rlz=1C1GCEA_enIN1063IN1064&amp;ie=UTF-8&amp;source=lnms&amp;sa=X&amp;ved=0ahUKEwjWgab7mZ-BAxX58DgGHfjrAZgQ_AUIBCgA\">ALL</a></td><td><a class=\"CsQyDc\" href=\"/search?q=elon+musk&amp;sca_esv=564088781&amp;bih=603&amp;biw=1280&amp;rlz=1C1GCEA_enIN1063IN1064&amp;ie=UTF-8&amp;tbm=nws&amp;source=lnms&amp;sa=X&amp;ved=0ahUKEwjWgab7mZ-BAxX58DgGHfjrAZgQ_AUIBSgB\">NEWS</a></td><td class=\"EY24We\"><span class=\"QIqI7\">IMAGES</span></td><td><a class=\"CsQyDc\" href=\"/search?q=elon+musk&amp;sca_esv=564088781&amp;bih=603&amp;biw=1280&amp;rlz=1C1GCEA_enIN1063IN1064&amp;ie=UTF-8&amp;tbm=vid&amp;source=lnms&amp;sa=X&amp;ved=0ahUKEwjWgab7mZ-BAxX58DgGHfjrAZgQ_AUIBygD\">VIDEOS</a></td></tr></tbody></table></div></div><div class=\"X6ZCif\"><a class=\"TwVfHd\" href=\"/search?sca_esv=564088781&amp;bih=603&amp;biw=1280&amp;rlz=1C1GCEA_enIN1063IN1064&amp;ie=UTF-8&amp;tbm=isch&amp;q=elon+musk&amp;chips=q:elon+mask,g_1:tesla&amp;sa=X&amp;ved=0ahUKEwjWgab7mZ-BAxX58DgGHfjrAZgQ4lYICygA\">tesla</a><a class=\"TwVfHd\" href=\"/search?sca_esv=564088781&amp;bih=603&amp;biw=1280&amp;rlz=1C1GCEA_enIN1063IN1064&amp;ie=UTF-8&amp;tbm=isch&amp;q=elon+musk&amp;chips=q:elon+mask,g_1:spacex&amp;sa=X&amp;ved=0ahUKEwjWgab7mZ-BAxX58DgGHfjrAZgQ4lYIDCgB\">spacex</a><a class=\"TwVfHd\" href=\"/search?sca_esv=564088781&amp;bih=603&amp;biw=1280&amp;rlz=1C1GCEA_enIN1063IN1064&amp;ie=UTF-8&amp;tbm=isch&amp;q=elon+musk&amp;chips=q:elon+mask,g_1:wife&amp;sa=X&amp;ved=0ahUKEwjWgab7mZ-BAxX58DgGHfjrAZgQ4lYIDSgC\">wife</a><a class=\"TwVfHd\" href=\"/search?sca_esv=564088781&amp;bih=603&amp;biw=1280&amp;rlz=1C1GCEA_enIN1063IN1064&amp;ie=UTF-8&amp;tbm=isch&amp;q=elon+musk&amp;chips=q:elon+mask,g_1:wallpaper&amp;sa=X&amp;ved=0ahUKEwjWgab7mZ-BAxX58DgGHfjrAZgQ4lYIDigD\">wallpaper</a><a class=\"TwVfHd\" href=\"/search?sca_esv=564088781&amp;bih=603&amp;biw=1280&amp;rlz=1C1GCEA_enIN1063IN1064&amp;ie=UTF-8&amp;tbm=isch&amp;q=elon+musk&amp;chips=q:elon+mask,g_1:family&amp;sa=X&amp;ved=0ahUKEwjWgab7mZ-BAxX58DgGHfjrAZgQ4lYIDygE\">family</a><a class=\"TwVfHd\" href=\"/search?sca_esv=564088781&amp;bih=603&amp;biw=1280&amp;rlz=1C1GCEA_enIN1063IN1064&amp;ie=UTF-8&amp;tbm=isch&amp;q=elon+musk&amp;chips=q:elon+mask,g_1:car&amp;sa=X&amp;ved=0ahUKEwjWgab7mZ-BAxX58DgGHfjrAZgQ4lYIECgF\">car</a><a class=\"TwVfHd\" href=\"/search?sca_esv=564088781&amp;bih=603&amp;biw=1280&amp;rlz=1C1GCEA_enIN1063IN1064&amp;ie=UTF-8&amp;tbm=isch&amp;q=elon+musk&amp;chips=q:elon+mask,g_1:rocket&amp;sa=X&amp;ved=0ahUKEwjWgab7mZ-BAxX58DgGHfjrAZgQ4lYIESgG\">rocket</a><a class=\"TwVfHd\" href=\"/search?sca_esv=564088781&amp;bih=603&amp;biw=1280&amp;rlz=1C1GCEA_enIN1063IN1064&amp;ie=UTF-8&amp;tbm=isch&amp;q=elon+musk&amp;chips=q:elon+mask,g_1:paypal&amp;sa=X&amp;ved=0ahUKEwjWgab7mZ-BAxX58DgGHfjrAZgQ4lYIEigH\">paypal</a><a class=\"TwVfHd\" href=\"/search?sca_esv=564088781&amp;bih=603&amp;biw=1280&amp;rlz=1C1GCEA_enIN1063IN1064&amp;ie=UTF-8&amp;tbm=isch&amp;q=elon+musk&amp;chips=q:elon+mask,g_1:net+worth&amp;sa=X&amp;ved=0ahUKEwjWgab7mZ-BAxX58DgGHfjrAZgQ4lYIEygI\">net worth</a><a class=\"TwVfHd\" href=\"/search?sca_esv=564088781&amp;bih=603&amp;biw=1280&amp;rlz=1C1GCEA_enIN1063IN1064&amp;ie=UTF-8&amp;tbm=isch&amp;q=elon+musk&amp;chips=q:elon+mask,g_1:design&amp;sa=X&amp;ved=0ahUKEwjWgab7mZ-BAxX58DgGHfjrAZgQ4lYIFCgJ\">design</a></div><div><div> <div> <div class=\"lIMUZd\"><div><table class=\"Mw6wOc\"><tbody><tr><td><div> <div> <span class=\"qXLe6d F9iS2e\"> <span class=\"fYyStc\">Showing results for </span> <a class=\"dloBPe M3vVJe\" href=\"/search?sca_esv=564088781&amp;bih=603&amp;biw=1280&amp;rlz=1C1GCEA_enIN1063IN1064&amp;ie=UTF-8&amp;tbm=isch&amp;q=elon+musk&amp;spell=1&amp;sa=X&amp;ved=2ahUKEwjWgab7mZ-BAxX58DgGHfjrAZgQvwV6BAgUEAE\">elon musk</a> <span class=\"fYyStc\">\n",
       "</span> <span class=\"fYyStc\">Search instead for </span> <a class=\"M3vVJe\" href=\"/search?sca_esv=564088781&amp;bih=603&amp;biw=1280&amp;rlz=1C1GCEA_enIN1063IN1064&amp;ie=UTF-8&amp;tbm=isch&amp;q=elon+mask&amp;nfpr=1&amp;sa=X&amp;ved=2ahUKEwjWgab7mZ-BAxX58DgGHfjrAZgQvgV6BAgUEAI\">elon mask</a> </span> </div> </div></td></tr></tbody></table></div></div> </div> </div><table class=\"GpQGbf\"><tr><td align=\"center\" class=\"e3goi\"><div class=\"jjVJ4e\"> <div> <div class=\"lIMUZd\"><div><table class=\"RntSmf\"><tr><td><a href=\"/url?q=https://en.wikipedia.org/wiki/Elon_Musk&amp;sa=U&amp;ved=2ahUKEwjWgab7mZ-BAxX58DgGHfjrAZgQqoUBegQIBxAB&amp;usg=AOvVaw3FKmNhx3waqiaJ14RnvD1D\"><div class=\"kCmkOe\"><img alt=\"\" class=\"DS1iW\" src=\"https://encrypted-tbn0.gstatic.com/images?q=tbn:ANd9GcQ91bYeYuNi93Snai-G61-ct5IkXUEpoeW1RpiOFFuRWggNeJf-7uN0OZsy5XI&amp;s\"/></div></a></td></tr><tr><td><a href=\"/url?q=https://en.wikipedia.org/wiki/Elon_Musk&amp;sa=U&amp;ved=2ahUKEwjWgab7mZ-BAxX58DgGHfjrAZgQr4kDegQIBxAC&amp;usg=AOvVaw0i-7qQSBFKeyU0COZEBj1P\"><div class=\"AlD19d\"> <span class=\"qXLe6d x3G5ab\"> <span class=\"fYyStc\">Elon Musk - Wikipedia</span> </span> <span class=\"qXLe6d F9iS2e\"> <span class=\"fYyStc\">en.wikipedia.org</span> </span> </div></a></td></tr></table></div></div> </div> </div></td><td align=\"center\" class=\"e3goi\"><div class=\"jjVJ4e\"> <div> <div class=\"lIMUZd\"><div><table class=\"RntSmf\"><tr><td><a href=\"/url?q=https://www.theguardian.com/technology/2023/sep/08/elon-musk-committed-evil-starlink-order-ukraine&amp;sa=U&amp;ved=2ahUKEwjWgab7mZ-BAxX58DgGHfjrAZgQqoUBegQIEhAB&amp;usg=AOvVaw3BReCAsfZaLw1NfwSMkzwu\"><div class=\"kCmkOe\"><img alt=\"\" class=\"DS1iW\" src=\"https://encrypted-tbn0.gstatic.com/images?q=tbn:ANd9GcSt6JbUu_u8mLsXErBkse1hZNl8-r22Zqil2frfbsAkT7nDNBtdmtWq_uNmfiU&amp;s\"/></div></a></td></tr><tr><td><a href=\"/url?q=https://www.theguardian.com/technology/2023/sep/08/elon-musk-committed-evil-starlink-order-ukraine&amp;sa=U&amp;ved=2ahUKEwjWgab7mZ-BAxX58DgGHfjrAZgQr4kDegQIEhAC&amp;usg=AOvVaw1FneR8SnjwFB0Vuy1Bz_07\"><div class=\"AlD19d\"> <span class=\"qXLe6d x3G5ab\"> <span class=\"fYyStc\">Elon Musk 'committed evil'...</span> </span> <span class=\"qXLe6d F9iS2e\"> <span class=\"fYyStc\">www.theguardian.com</span> </span> </div></a></td></tr></table></div></div> </div> </div></td><td align=\"center\" class=\"e3goi\"><div class=\"jjVJ4e\"> <div> <div class=\"lIMUZd\"><div><table class=\"RntSmf\"><tr><td><a href=\"/url?q=https://www.britannica.com/biography/Elon-Musk&amp;sa=U&amp;ved=2ahUKEwjWgab7mZ-BAxX58DgGHfjrAZgQqoUBegQIExAB&amp;usg=AOvVaw2tiYfgYZrBmDPpcIF56ZBG\"><div class=\"kCmkOe\"><img alt=\"\" class=\"DS1iW\" src=\"https://encrypted-tbn0.gstatic.com/images?q=tbn:ANd9GcQY_R5NSNoZkSlMo3hf86COGJ4fCv0s6Nx4k8uCGkWc6YGOn_m4-rIOQ3GhOhg&amp;s\"/></div></a></td></tr><tr><td><a href=\"/url?q=https://www.britannica.com/biography/Elon-Musk&amp;sa=U&amp;ved=2ahUKEwjWgab7mZ-BAxX58DgGHfjrAZgQr4kDegQIExAC&amp;usg=AOvVaw2xFZsS-X7y_Hoaj1pJSh92\"><div class=\"AlD19d\"> <span class=\"qXLe6d x3G5ab\"> <span class=\"fYyStc\">Elon Musk | Biography,...</span> </span> <span class=\"qXLe6d F9iS2e\"> <span class=\"fYyStc\">www.britannica.com</span> </span> </div></a></td></tr></table></div></div> </div> </div></td><td align=\"center\" class=\"e3goi\"><div class=\"jjVJ4e\"> <div> <div class=\"lIMUZd\"><div><table class=\"RntSmf\"><tr><td><a href=\"/url?q=https://www.architecturaldigest.com/story/is-elon-musk-using-tesla-funds-to-build-himself-a-glass-house&amp;sa=U&amp;ved=2ahUKEwjWgab7mZ-BAxX58DgGHfjrAZgQqoUBegQIERAB&amp;usg=AOvVaw1stpoU3O8CHxUTfdeY0wND\"><div class=\"kCmkOe\"><img alt=\"\" class=\"DS1iW\" src=\"https://encrypted-tbn0.gstatic.com/images?q=tbn:ANd9GcSa72n9HkcgST9V0llVSF4d4L2_jU1OqE-ozzTbcDhKyNLbnCbZOqqJtBPrBCs&amp;s\"/></div></a></td></tr><tr><td><a href=\"/url?q=https://www.architecturaldigest.com/story/is-elon-musk-using-tesla-funds-to-build-himself-a-glass-house&amp;sa=U&amp;ved=2ahUKEwjWgab7mZ-BAxX58DgGHfjrAZgQr4kDegQIERAC&amp;usg=AOvVaw14cyw6uS595R13-LxUqDSK\"><div class=\"AlD19d\"> <span class=\"qXLe6d x3G5ab\"> <span class=\"fYyStc\">Is Elon Musk Using Tesla...</span> </span> <span class=\"qXLe6d F9iS2e\"> <span class=\"fYyStc\">www.architecturaldigest.com...</span> </span> </div></a></td></tr></table></div></div> </div> </div></td></tr><tr><td align=\"center\" class=\"e3goi\"><div class=\"jjVJ4e\"> <div> <div class=\"lIMUZd\"><div><table class=\"RntSmf\"><tr><td><a href=\"/url?q=https://www.cnbc.com/2023/09/09/elon-musk-biographer-moves-to-clarify-details-on-ukraine-starlink.html&amp;sa=U&amp;ved=2ahUKEwjWgab7mZ-BAxX58DgGHfjrAZgQqoUBegQICRAB&amp;usg=AOvVaw12R3FnNLsEH-zS8e7IoGoC\"><div class=\"kCmkOe\"><img alt=\"\" class=\"DS1iW\" src=\"https://encrypted-tbn0.gstatic.com/images?q=tbn:ANd9GcTvRhpVZcFwLql7ExVAzuzR-AxReSfck1xmO0e4M22euwDoLCezfdRw3xCiSYQ&amp;s\"/></div></a></td></tr><tr><td><a href=\"/url?q=https://www.cnbc.com/2023/09/09/elon-musk-biographer-moves-to-clarify-details-on-ukraine-starlink.html&amp;sa=U&amp;ved=2ahUKEwjWgab7mZ-BAxX58DgGHfjrAZgQr4kDegQICRAC&amp;usg=AOvVaw0ETYh3GohyP3qUwsIe_mvn\"><div class=\"AlD19d\"> <span class=\"qXLe6d x3G5ab\"> <span class=\"fYyStc\">Elon Musk biographer moves...</span> </span> <span class=\"qXLe6d F9iS2e\"> <span class=\"fYyStc\">www.cnbc.com</span> </span> </div></a></td></tr></table></div></div> </div> </div></td><td align=\"center\" class=\"e3goi\"><div class=\"jjVJ4e\"> <div> <div class=\"lIMUZd\"><div><table class=\"RntSmf\"><tr><td><a href=\"/url?q=https://www.foxbusiness.com/economy/elon-musk-borrowed-1-billion-space-x-after-twitter-acquisition-report&amp;sa=U&amp;ved=2ahUKEwjWgab7mZ-BAxX58DgGHfjrAZgQqoUBegQIDhAB&amp;usg=AOvVaw1uwoR1ZO_Nbw5-MUBK_XZE\"><div class=\"kCmkOe\"><img alt=\"\" class=\"DS1iW\" src=\"https://encrypted-tbn0.gstatic.com/images?q=tbn:ANd9GcSiMxLXqEb2GCxNhjyEMLn-TBKonIxC5GSMi_JeSbKv8XhscW6eLoy6FiUhp4g&amp;s\"/></div></a></td></tr><tr><td><a href=\"/url?q=https://www.foxbusiness.com/economy/elon-musk-borrowed-1-billion-space-x-after-twitter-acquisition-report&amp;sa=U&amp;ved=2ahUKEwjWgab7mZ-BAxX58DgGHfjrAZgQr4kDegQIDhAC&amp;usg=AOvVaw1W40hPz1EJkA8CXHpbZ1iG\"><div class=\"AlD19d\"> <span class=\"qXLe6d x3G5ab\"> <span class=\"fYyStc\">Elon Musk borrowed $1...</span> </span> <span class=\"qXLe6d F9iS2e\"> <span class=\"fYyStc\">www.foxbusiness.com</span> </span> </div></a></td></tr></table></div></div> </div> </div></td><td align=\"center\" class=\"e3goi\"><div class=\"jjVJ4e\"> <div> <div class=\"lIMUZd\"><div><table class=\"RntSmf\"><tr><td><a href=\"/url?q=https://www.hellomagazine.com/healthandbeauty/mother-and-baby/502079/elon-musk-reveals-the-very-surprising-names-of-his-22-month-old-twins/&amp;sa=U&amp;ved=2ahUKEwjWgab7mZ-BAxX58DgGHfjrAZgQqoUBegQICxAB&amp;usg=AOvVaw1rmDeSk76rBmsDC3rgslhn\"><div class=\"kCmkOe\"><img alt=\"\" class=\"DS1iW\" src=\"https://encrypted-tbn0.gstatic.com/images?q=tbn:ANd9GcSpDJp2s9LsfHhhW55SvGS_7VYcSGsOlGLstzSzOyiVIVoguxWbmobejo9NEw&amp;s\"/></div></a></td></tr><tr><td><a href=\"/url?q=https://www.hellomagazine.com/healthandbeauty/mother-and-baby/502079/elon-musk-reveals-the-very-surprising-names-of-his-22-month-old-twins/&amp;sa=U&amp;ved=2ahUKEwjWgab7mZ-BAxX58DgGHfjrAZgQr4kDegQICxAC&amp;usg=AOvVaw1YC4f7YYTdRr4bd1OXkna3\"><div class=\"AlD19d\"> <span class=\"qXLe6d x3G5ab\"> <span class=\"fYyStc\">Elon Musk reveals the very...</span> </span> <span class=\"qXLe6d F9iS2e\"> <span class=\"fYyStc\">www.hellomagazine.com</span> </span> </div></a></td></tr></table></div></div> </div> </div></td><td align=\"center\" class=\"e3goi\"><div class=\"jjVJ4e\"> <div> <div class=\"lIMUZd\"><div><table class=\"RntSmf\"><tr><td><a href=\"/url?q=https://www.nytimes.com/2023/09/09/books/review/elon-musk-walter-isaacson.html&amp;sa=U&amp;ved=2ahUKEwjWgab7mZ-BAxX58DgGHfjrAZgQqoUBegQIChAB&amp;usg=AOvVaw0s8gSQ_G7v2QKBJ09tp1sv\"><div class=\"kCmkOe\"><img alt=\"\" class=\"DS1iW\" src=\"https://encrypted-tbn0.gstatic.com/images?q=tbn:ANd9GcTTG4rugaxPS8InZaANy1zhgzF-iAEFYj2n7SazzZkkVNIGLYsG1UPi6vsIGg&amp;s\"/></div></a></td></tr><tr><td><a href=\"/url?q=https://www.nytimes.com/2023/09/09/books/review/elon-musk-walter-isaacson.html&amp;sa=U&amp;ved=2ahUKEwjWgab7mZ-BAxX58DgGHfjrAZgQr4kDegQIChAC&amp;usg=AOvVaw3z0iKz6Hf1l8A8BOXsLRQY\"><div class=\"AlD19d\"> <span class=\"qXLe6d x3G5ab\"> <span class=\"fYyStc\">Book Review: 'Elon Musk,'...</span> </span> <span class=\"qXLe6d F9iS2e\"> <span class=\"fYyStc\">www.nytimes.com</span> </span> </div></a></td></tr></table></div></div> </div> </div></td></tr><tr><td align=\"center\" class=\"e3goi\"><div class=\"jjVJ4e\"> <div> <div class=\"lIMUZd\"><div><table class=\"RntSmf\"><tr><td><a href=\"/url?q=https://www.britannica.com/biography/Elon-Musk&amp;sa=U&amp;ved=2ahUKEwjWgab7mZ-BAxX58DgGHfjrAZgQqoUBegQIEBAB&amp;usg=AOvVaw3AXV7X3Ix7r6egMGVyU5hc\"><div class=\"kCmkOe\"><img alt=\"\" class=\"DS1iW\" src=\"https://encrypted-tbn0.gstatic.com/images?q=tbn:ANd9GcS6mPr1g683xgMlTnJfswzPyIjixDUJCLKR_GUOYd43dGj0LB8Uum64r_cOjl4&amp;s\"/></div></a></td></tr><tr><td><a href=\"/url?q=https://www.britannica.com/biography/Elon-Musk&amp;sa=U&amp;ved=2ahUKEwjWgab7mZ-BAxX58DgGHfjrAZgQr4kDegQIEBAC&amp;usg=AOvVaw1iaUmoKvL83pbRwGl52OvK\"><div class=\"AlD19d\"> <span class=\"qXLe6d x3G5ab\"> <span class=\"fYyStc\">Elon Musk | Biography,...</span> </span> <span class=\"qXLe6d F9iS2e\"> <span class=\"fYyStc\">www.britannica.com</span> </span> </div></a></td></tr></table></div></div> </div> </div></td><td align=\"center\" class=\"e3goi\"><div class=\"jjVJ4e\"> <div> <div class=\"lIMUZd\"><div><table class=\"RntSmf\"><tr><td><a href=\"/url?q=https://www.theglobeandmail.com/business/international-business/article-elon-musk-reportedly-borrowed-us1-billion-from-spacex-in-same-month-as/&amp;sa=U&amp;ved=2ahUKEwjWgab7mZ-BAxX58DgGHfjrAZgQqoUBegQIDBAB&amp;usg=AOvVaw3k5OC_rU4nAVFdrBb1X7BP\"><div class=\"kCmkOe\"><img alt=\"\" class=\"DS1iW\" src=\"https://encrypted-tbn0.gstatic.com/images?q=tbn:ANd9GcT0ZAdn_My5KuVG4zxIWGddSKtkiOm3OW3HVjsajAQiKucw4r8bjNiq8iqMbA&amp;s\"/></div></a></td></tr><tr><td><a href=\"/url?q=https://www.theglobeandmail.com/business/international-business/article-elon-musk-reportedly-borrowed-us1-billion-from-spacex-in-same-month-as/&amp;sa=U&amp;ved=2ahUKEwjWgab7mZ-BAxX58DgGHfjrAZgQr4kDegQIDBAC&amp;usg=AOvVaw3FzoVxNWMC7xYAbiyDMTW4\"><div class=\"AlD19d\"> <span class=\"qXLe6d x3G5ab\"> <span class=\"fYyStc\">Elon Musk reportedly...</span> </span> <span class=\"qXLe6d F9iS2e\"> <span class=\"fYyStc\">www.theglobeandmail.com</span> </span> </div></a></td></tr></table></div></div> </div> </div></td><td align=\"center\" class=\"e3goi\"><div class=\"jjVJ4e\"> <div> <div class=\"lIMUZd\"><div><table class=\"RntSmf\"><tr><td><a href=\"/url?q=https://www.biography.com/business-leaders/elon-musk&amp;sa=U&amp;ved=2ahUKEwjWgab7mZ-BAxX58DgGHfjrAZgQqoUBegQIDxAB&amp;usg=AOvVaw0jJAwXQgK2mfzthHGymV0n\"><div class=\"kCmkOe\"><img alt=\"\" class=\"DS1iW\" src=\"https://encrypted-tbn0.gstatic.com/images?q=tbn:ANd9GcTvewo3-e7y-JsV16EL3q3EaMThVwCiuN7DD1_KTctFNodySZtMVcuOKk5uUQ&amp;s\"/></div></a></td></tr><tr><td><a href=\"/url?q=https://www.biography.com/business-leaders/elon-musk&amp;sa=U&amp;ved=2ahUKEwjWgab7mZ-BAxX58DgGHfjrAZgQr4kDegQIDxAC&amp;usg=AOvVaw3bqSmyklSmfbbXF_DrNA-3\"><div class=\"AlD19d\"> <span class=\"qXLe6d x3G5ab\"> <span class=\"fYyStc\">Elon Musk - Tesla, Age &amp;...</span> </span> <span class=\"qXLe6d F9iS2e\"> <span class=\"fYyStc\">www.biography.com</span> </span> </div></a></td></tr></table></div></div> </div> </div></td><td align=\"center\" class=\"e3goi\"><div class=\"jjVJ4e\"> <div> <div class=\"lIMUZd\"><div><table class=\"RntSmf\"><tr><td><a href=\"/url?q=https://news.sky.com/story/elon-musk-sparks-fury-as-billionaire-admits-scuppering-ukrainian-attack-on-russia-12957209&amp;sa=U&amp;ved=2ahUKEwjWgab7mZ-BAxX58DgGHfjrAZgQqoUBegQIDRAB&amp;usg=AOvVaw2hKYTUL80vp0byX0oCPOJ1\"><div class=\"kCmkOe\"><img alt=\"\" class=\"DS1iW\" src=\"https://encrypted-tbn0.gstatic.com/images?q=tbn:ANd9GcTTvtvdec6HsPF9UBmsdDH5RId_eDLtzHxuhYYTEF5DXt57-f6PdWpQgFl_YKo&amp;s\"/></div></a></td></tr><tr><td><a href=\"/url?q=https://news.sky.com/story/elon-musk-sparks-fury-as-billionaire-admits-scuppering-ukrainian-attack-on-russia-12957209&amp;sa=U&amp;ved=2ahUKEwjWgab7mZ-BAxX58DgGHfjrAZgQr4kDegQIDRAC&amp;usg=AOvVaw0VfmayH4T5T1YRDlP-YQCa\"><div class=\"AlD19d\"> <span class=\"qXLe6d x3G5ab\"> <span class=\"fYyStc\">Elon Musk sparks fury as...</span> </span> <span class=\"qXLe6d F9iS2e\"> <span class=\"fYyStc\">news.sky.com</span> </span> </div></a></td></tr></table></div></div> </div> </div></td></tr><tr><td align=\"center\" class=\"e3goi\"><div class=\"jjVJ4e\"> <div> <div class=\"lIMUZd\"><div><table class=\"RntSmf\"><tr><td><a href=\"/url?q=https://www.latimes.com/entertainment-arts/story/2023-09-08/grimes-demands-elon-musk-let-her-see-son&amp;sa=U&amp;ved=2ahUKEwjWgab7mZ-BAxX58DgGHfjrAZgQqoUBegQIBhAB&amp;usg=AOvVaw39QpRShz-3-oHIfjQ6DEC9\"><div class=\"kCmkOe\"><img alt=\"\" class=\"DS1iW\" src=\"https://encrypted-tbn0.gstatic.com/images?q=tbn:ANd9GcSbo0Grin8MF7QBhw6kYyy4_xP2oiBBGg-ToiS1BMNQvqh2ixfbFTGcygKp6Sw&amp;s\"/></div></a></td></tr><tr><td><a href=\"/url?q=https://www.latimes.com/entertainment-arts/story/2023-09-08/grimes-demands-elon-musk-let-her-see-son&amp;sa=U&amp;ved=2ahUKEwjWgab7mZ-BAxX58DgGHfjrAZgQr4kDegQIBhAC&amp;usg=AOvVaw3fjCBuSRZ59aSiD0whtabg\"><div class=\"AlD19d\"> <span class=\"qXLe6d x3G5ab\"> <span class=\"fYyStc\">Grimes demands on X that...</span> </span> <span class=\"qXLe6d F9iS2e\"> <span class=\"fYyStc\">www.latimes.com</span> </span> </div></a></td></tr></table></div></div> </div> </div></td><td align=\"center\" class=\"e3goi\"><div class=\"jjVJ4e\"> <div> <div class=\"lIMUZd\"><div><table class=\"RntSmf\"><tr><td><a href=\"/url?q=https://www.theguardian.com/tv-and-radio/2022/oct/12/the-elon-musk-show-review-is-the-worlds-richest-man-a-genius-or-just-a-goofy-loner&amp;sa=U&amp;ved=2ahUKEwjWgab7mZ-BAxX58DgGHfjrAZgQqoUBegQIBBAB&amp;usg=AOvVaw0dTiZ0aWIJi0PKU9LBzg9I\"><div class=\"kCmkOe\"><img alt=\"\" class=\"DS1iW\" src=\"https://encrypted-tbn0.gstatic.com/images?q=tbn:ANd9GcRQZseQ9bRxUwHLR5yk-VmJYFt7AuZKTqzI7n1im9SOTEk9qWAeEoQcfZ8l5g&amp;s\"/></div></a></td></tr><tr><td><a href=\"/url?q=https://www.theguardian.com/tv-and-radio/2022/oct/12/the-elon-musk-show-review-is-the-worlds-richest-man-a-genius-or-just-a-goofy-loner&amp;sa=U&amp;ved=2ahUKEwjWgab7mZ-BAxX58DgGHfjrAZgQr4kDegQIBBAC&amp;usg=AOvVaw1SBbuMT1bIGU664ubrHRmT\"><div class=\"AlD19d\"> <span class=\"qXLe6d x3G5ab\"> <span class=\"fYyStc\">The Elon Musk Show review –...</span> </span> <span class=\"qXLe6d F9iS2e\"> <span class=\"fYyStc\">www.theguardian.com</span> </span> </div></a></td></tr></table></div></div> </div> </div></td><td align=\"center\" class=\"e3goi\"><div class=\"jjVJ4e\"> <div> <div class=\"lIMUZd\"><div><table class=\"RntSmf\"><tr><td><a href=\"/url?q=https://www.ndtv.com/world-news/amid-buzz-around-tesla-elon-musk-looks-forward-to-visiting-india-4321865&amp;sa=U&amp;ved=2ahUKEwjWgab7mZ-BAxX58DgGHfjrAZgQqoUBegQIAxAB&amp;usg=AOvVaw31VraLWjWnTXvf8FiWeLS4\"><div class=\"kCmkOe\"><img alt=\"\" class=\"DS1iW\" src=\"https://encrypted-tbn0.gstatic.com/images?q=tbn:ANd9GcQ4bZhNNVCbthTCApXsSNKWFth0vpsZ_6c-wVTFIV-E8ABkytP_9nqi4CCIWg&amp;s\"/></div></a></td></tr><tr><td><a href=\"/url?q=https://www.ndtv.com/world-news/amid-buzz-around-tesla-elon-musk-looks-forward-to-visiting-india-4321865&amp;sa=U&amp;ved=2ahUKEwjWgab7mZ-BAxX58DgGHfjrAZgQr4kDegQIAxAC&amp;usg=AOvVaw0dwFecN0M2i8bzSgKD4GYJ\"><div class=\"AlD19d\"> <span class=\"qXLe6d x3G5ab\"> <span class=\"fYyStc\">Amid Buzz Around Tesla,...</span> </span> <span class=\"qXLe6d F9iS2e\"> <span class=\"fYyStc\">www.ndtv.com</span> </span> </div></a></td></tr></table></div></div> </div> </div></td><td align=\"center\" class=\"e3goi\"><div class=\"jjVJ4e\"> <div> <div class=\"lIMUZd\"><div><table class=\"RntSmf\"><tr><td><a href=\"/url?q=https://www.cnbc.com/2022/12/12/elon-musk-is-no-longer-the-richest-person-in-the-world.html&amp;sa=U&amp;ved=2ahUKEwjWgab7mZ-BAxX58DgGHfjrAZgQqoUBegQIBRAB&amp;usg=AOvVaw1KWPnjaDqGa98yQsKduvoy\"><div class=\"kCmkOe\"><img alt=\"\" class=\"DS1iW\" src=\"https://encrypted-tbn0.gstatic.com/images?q=tbn:ANd9GcSftzxsGcyIyn_OB2mQFSjeln7vtLq2LVMK3Oa4k9uPaCQr2r_Pq54Vqo8uZw&amp;s\"/></div></a></td></tr><tr><td><a href=\"/url?q=https://www.cnbc.com/2022/12/12/elon-musk-is-no-longer-the-richest-person-in-the-world.html&amp;sa=U&amp;ved=2ahUKEwjWgab7mZ-BAxX58DgGHfjrAZgQr4kDegQIBRAC&amp;usg=AOvVaw2uuZwNGlGUb9wuYFhjOqCp\"><div class=\"AlD19d\"> <span class=\"qXLe6d x3G5ab\"> <span class=\"fYyStc\">Elon Musk is no longer the...</span> </span> <span class=\"qXLe6d F9iS2e\"> <span class=\"fYyStc\">www.cnbc.com</span> </span> </div></a></td></tr></table></div></div> </div> </div></td></tr><tr><td align=\"center\" class=\"e3goi\"><div class=\"jjVJ4e\"> <div> <div class=\"lIMUZd\"><div><table class=\"RntSmf\"><tr><td><a href=\"/url?q=https://www.simonandschuster.com/books/Elon-Musk/Walter-Isaacson/9781982181284&amp;sa=U&amp;ved=2ahUKEwjWgab7mZ-BAxX58DgGHfjrAZgQqoUBegQICBAB&amp;usg=AOvVaw26qcvvR3Kkg0I8CG46rzcW\"><div class=\"kCmkOe\"><img alt=\"\" class=\"DS1iW\" src=\"https://encrypted-tbn0.gstatic.com/images?q=tbn:ANd9GcS6PtbO3oSFgC1yh6BPlre0Sr5h3aca6UrEmg7ibGUrD1g40Xm5cZBGYl7G3PU&amp;s\"/></div></a></td></tr><tr><td><a href=\"/url?q=https://www.simonandschuster.com/books/Elon-Musk/Walter-Isaacson/9781982181284&amp;sa=U&amp;ved=2ahUKEwjWgab7mZ-BAxX58DgGHfjrAZgQr4kDegQICBAC&amp;usg=AOvVaw0xDlLQSfsw45fKOHAi1gNm\"><div class=\"AlD19d\"> <span class=\"qXLe6d x3G5ab\"> <span class=\"fYyStc\">Elon Musk | Book by Walter...</span> </span> <span class=\"qXLe6d F9iS2e\"> <span class=\"fYyStc\">www.simonandschuster.com</span> </span> </div></a></td></tr></table></div></div> </div> </div></td><td align=\"center\" class=\"e3goi\"><div class=\"jjVJ4e\"> <div> <div class=\"lIMUZd\"><div><table class=\"RntSmf\"><tr><td><a href=\"/url?q=https://abcnews.go.com/Business/timeline-elon-musks-tumultuous-twitter-acquisition-attempt/story%3Fid%3D86611191&amp;sa=U&amp;ved=2ahUKEwjWgab7mZ-BAxX58DgGHfjrAZgQqoUBegQIARAB&amp;usg=AOvVaw0kS09v2-SHm0FYb1JiIg9Z\"><div class=\"kCmkOe\"><img alt=\"\" class=\"DS1iW\" src=\"https://encrypted-tbn0.gstatic.com/images?q=tbn:ANd9GcRiUjYXnbLzwPnTzycn2ItHcUl6UbhYTYYF8JbaVC3rKLx4vjrTBnan-RRZq7Q&amp;s\"/></div></a></td></tr><tr><td><a href=\"/url?q=https://abcnews.go.com/Business/timeline-elon-musks-tumultuous-twitter-acquisition-attempt/story%3Fid%3D86611191&amp;sa=U&amp;ved=2ahUKEwjWgab7mZ-BAxX58DgGHfjrAZgQr4kDegQIARAC&amp;usg=AOvVaw1FkSQOkQLwmARuls-K3PFj\"><div class=\"AlD19d\"> <span class=\"qXLe6d x3G5ab\"> <span class=\"fYyStc\">A timeline of Elon Musk's...</span> </span> <span class=\"qXLe6d F9iS2e\"> <span class=\"fYyStc\">abcnews.go.com</span> </span> </div></a></td></tr></table></div></div> </div> </div></td><td align=\"center\" class=\"e3goi\"><div class=\"jjVJ4e\"> <div> <div class=\"lIMUZd\"><div><table class=\"RntSmf\"><tr><td><a href=\"/url?q=https://people.com/elon-musk-complete-dating-history-7502497&amp;sa=U&amp;ved=2ahUKEwjWgab7mZ-BAxX58DgGHfjrAZgQqoUBegQIAhAB&amp;usg=AOvVaw1bxiaEqu80u0XOQ6nzqNnU\"><div class=\"kCmkOe\"><img alt=\"\" class=\"DS1iW\" src=\"https://encrypted-tbn0.gstatic.com/images?q=tbn:ANd9GcRur88TscLQUC9zZI59lVf0CGH20SM8vzN7kJkSuXVx6cLhGsgyeAURTECl_w&amp;s\"/></div></a></td></tr><tr><td><a href=\"/url?q=https://people.com/elon-musk-complete-dating-history-7502497&amp;sa=U&amp;ved=2ahUKEwjWgab7mZ-BAxX58DgGHfjrAZgQr4kDegQIAhAC&amp;usg=AOvVaw3jB01cs5m0_OLcR3V9YIeJ\"><div class=\"AlD19d\"> <span class=\"qXLe6d x3G5ab\"> <span class=\"fYyStc\">Elon Musk's Dating History:...</span> </span> <span class=\"qXLe6d F9iS2e\"> <span class=\"fYyStc\">people.com</span> </span> </div></a></td></tr></table></div></div> </div> </div></td><td align=\"center\" class=\"e3goi\"><div class=\"jjVJ4e\"> <div> <div class=\"lIMUZd\"><div><table class=\"RntSmf\"><tr><td><a href=\"/url?q=https://www.rollingstone.com/culture/culture-news/elon-musk-says-find-new-twitter-ceo-2023-1234680357/&amp;sa=U&amp;ved=2ahUKEwjWgab7mZ-BAxX58DgGHfjrAZgQqoUBegQIABAB&amp;usg=AOvVaw0lqxgccza4bHZHYPs08jO6\"><div class=\"kCmkOe\"><img alt=\"\" class=\"DS1iW\" src=\"https://encrypted-tbn0.gstatic.com/images?q=tbn:ANd9GcSwq0dm9LsIJFXhVpVi2-xb2VQSTdG7Tb92l9AIyKFFgrYonh1FnTbuvi-3Cw&amp;s\"/></div></a></td></tr><tr><td><a href=\"/url?q=https://www.rollingstone.com/culture/culture-news/elon-musk-says-find-new-twitter-ceo-2023-1234680357/&amp;sa=U&amp;ved=2ahUKEwjWgab7mZ-BAxX58DgGHfjrAZgQr4kDegQIABAC&amp;usg=AOvVaw2FspnmLlcbQVw2blzLxnMi\"><div class=\"AlD19d\"> <span class=\"qXLe6d x3G5ab\"> <span class=\"fYyStc\">Elon Musk Says He Wants New...</span> </span> <span class=\"qXLe6d F9iS2e\"> <span class=\"fYyStc\">www.rollingstone.com</span> </span> </div></a></td></tr></table></div></div> </div> </div></td></tr></table></div><table class=\"uZgmoc\"><tbody><td><a class=\"frGj1b\" href=\"/search?q=elon+musk&amp;sca_esv=564088781&amp;bih=603&amp;biw=1280&amp;rlz=1C1GCEA_enIN1063IN1064&amp;ie=UTF-8&amp;tbm=isch&amp;ei=nEX9ZNbDB_nh4-EP-NeHwAk&amp;start=20&amp;sa=N\">Next &gt;</a></td></tbody></table><br/><div class=\"TuS8Ad\" data-ved=\"0ahUKEwjWgab7mZ-BAxX58DgGHfjrAZgQpyoIVg\"><style>.VYM29{font-weight:bold}</style><div align=\"center\" class=\"HddGcc\"><span class=\"VYM29\">Bengaluru, Karnataka</span><span> - </span><span>From your IP address</span><span> - </span><a href=\"/url?q=https://support.google.com/websearch%3Fp%3Dws_settings_location%26hl%3Den-IN&amp;sa=U&amp;ved=0ahUKEwjWgab7mZ-BAxX58DgGHfjrAZgQty4IVw&amp;usg=AOvVaw3JuhRpuUhRluYrO4C9e1yT\">Learn more</a></div><div align=\"center\"><a class=\"rEM8G\" href=\"/url?q=https://accounts.google.com/ServiceLogin%3Fcontinue%3Dhttps://www.google.com/search%253Fq%253Delon%252Bmask%2526tbm%253Disch%2526ved%253D2ahUKEwi2zbqTmJ-BAxWX2jgGHUByAekQ2-cCegQIABAA%2526oq%253Delon%252Bmusk%2526gs_lcp%253DCgNpbWcQARgAMgQIIxAnMgoIABCKBRCxAxBDMggIABCABBCxAzIHCAAQigUQQzIICAAQgAQQsQMyCAgAEIAEELEDMgoIABCKBRCxAxBDMggIABCABBCxAzIHCAAQigUQQzIICAAQgAQQsQNQAFgAYP8KaABwAHgAgAF9iAF9kgEDMC4xmAEAqgELZ3dzLXdpei1pbWfAAQE%2526sclient%253Dimg%2526ei%253DtUP9ZPaeOJe14-EPwOSFyA4%2526bih%253D603%2526biw%253D1280%2526rlz%253D1C1GCEA_enIN1063IN1064%26hl%3Den&amp;sa=U&amp;ved=0ahUKEwjWgab7mZ-BAxX58DgGHfjrAZgQxs8CCFg&amp;usg=AOvVaw2hRuD5_GH_f5Dttnpj5Feu\">Sign in</a></div><div><table class=\"bookcf\"><tbody class=\"InWNIe\"><tr><td><a class=\"rEM8G\" href=\"https://www.google.com/preferences?hl=en&amp;sa=X&amp;ved=0ahUKEwjWgab7mZ-BAxX58DgGHfjrAZgQv5YECFk\">Settings</a></td><td><a class=\"rEM8G\" href=\"https://www.google.com/intl/en_in/policies/privacy/\">Privacy</a></td><td><a class=\"rEM8G\" href=\"https://www.google.com/intl/en_in/policies/terms/\">Terms</a></td></tr></tbody></table></div></div><div> </div></body></html>"
      ]
     },
     "execution_count": 23,
     "metadata": {},
     "output_type": "execute_result"
    }
   ],
   "source": [
    "soup"
   ]
  },
  {
   "cell_type": "code",
   "execution_count": 40,
   "id": "d696150c-7f8b-4a91-94c7-986440586a3b",
   "metadata": {},
   "outputs": [],
   "source": [
    "image_tags=soup.find_all(\"img\")"
   ]
  },
  {
   "cell_type": "code",
   "execution_count": 29,
   "id": "ccc32aa8-4321-4b96-b70a-ad07483846f4",
   "metadata": {},
   "outputs": [
    {
     "data": {
      "text/plain": [
       "[<img alt=\"Google\" class=\"kgJEQe\" src=\"/images/branding/searchlogo/1x/googlelogo_desk_heirloom_color_150x55dp.gif\"/>,\n",
       " <img alt=\"\" class=\"DS1iW\" src=\"https://encrypted-tbn0.gstatic.com/images?q=tbn:ANd9GcQ91bYeYuNi93Snai-G61-ct5IkXUEpoeW1RpiOFFuRWggNeJf-7uN0OZsy5XI&amp;s\"/>,\n",
       " <img alt=\"\" class=\"DS1iW\" src=\"https://encrypted-tbn0.gstatic.com/images?q=tbn:ANd9GcSt6JbUu_u8mLsXErBkse1hZNl8-r22Zqil2frfbsAkT7nDNBtdmtWq_uNmfiU&amp;s\"/>,\n",
       " <img alt=\"\" class=\"DS1iW\" src=\"https://encrypted-tbn0.gstatic.com/images?q=tbn:ANd9GcQY_R5NSNoZkSlMo3hf86COGJ4fCv0s6Nx4k8uCGkWc6YGOn_m4-rIOQ3GhOhg&amp;s\"/>,\n",
       " <img alt=\"\" class=\"DS1iW\" src=\"https://encrypted-tbn0.gstatic.com/images?q=tbn:ANd9GcSa72n9HkcgST9V0llVSF4d4L2_jU1OqE-ozzTbcDhKyNLbnCbZOqqJtBPrBCs&amp;s\"/>,\n",
       " <img alt=\"\" class=\"DS1iW\" src=\"https://encrypted-tbn0.gstatic.com/images?q=tbn:ANd9GcTvRhpVZcFwLql7ExVAzuzR-AxReSfck1xmO0e4M22euwDoLCezfdRw3xCiSYQ&amp;s\"/>,\n",
       " <img alt=\"\" class=\"DS1iW\" src=\"https://encrypted-tbn0.gstatic.com/images?q=tbn:ANd9GcSiMxLXqEb2GCxNhjyEMLn-TBKonIxC5GSMi_JeSbKv8XhscW6eLoy6FiUhp4g&amp;s\"/>,\n",
       " <img alt=\"\" class=\"DS1iW\" src=\"https://encrypted-tbn0.gstatic.com/images?q=tbn:ANd9GcSpDJp2s9LsfHhhW55SvGS_7VYcSGsOlGLstzSzOyiVIVoguxWbmobejo9NEw&amp;s\"/>,\n",
       " <img alt=\"\" class=\"DS1iW\" src=\"https://encrypted-tbn0.gstatic.com/images?q=tbn:ANd9GcTTG4rugaxPS8InZaANy1zhgzF-iAEFYj2n7SazzZkkVNIGLYsG1UPi6vsIGg&amp;s\"/>,\n",
       " <img alt=\"\" class=\"DS1iW\" src=\"https://encrypted-tbn0.gstatic.com/images?q=tbn:ANd9GcS6mPr1g683xgMlTnJfswzPyIjixDUJCLKR_GUOYd43dGj0LB8Uum64r_cOjl4&amp;s\"/>,\n",
       " <img alt=\"\" class=\"DS1iW\" src=\"https://encrypted-tbn0.gstatic.com/images?q=tbn:ANd9GcT0ZAdn_My5KuVG4zxIWGddSKtkiOm3OW3HVjsajAQiKucw4r8bjNiq8iqMbA&amp;s\"/>,\n",
       " <img alt=\"\" class=\"DS1iW\" src=\"https://encrypted-tbn0.gstatic.com/images?q=tbn:ANd9GcTvewo3-e7y-JsV16EL3q3EaMThVwCiuN7DD1_KTctFNodySZtMVcuOKk5uUQ&amp;s\"/>,\n",
       " <img alt=\"\" class=\"DS1iW\" src=\"https://encrypted-tbn0.gstatic.com/images?q=tbn:ANd9GcTTvtvdec6HsPF9UBmsdDH5RId_eDLtzHxuhYYTEF5DXt57-f6PdWpQgFl_YKo&amp;s\"/>,\n",
       " <img alt=\"\" class=\"DS1iW\" src=\"https://encrypted-tbn0.gstatic.com/images?q=tbn:ANd9GcSbo0Grin8MF7QBhw6kYyy4_xP2oiBBGg-ToiS1BMNQvqh2ixfbFTGcygKp6Sw&amp;s\"/>,\n",
       " <img alt=\"\" class=\"DS1iW\" src=\"https://encrypted-tbn0.gstatic.com/images?q=tbn:ANd9GcRQZseQ9bRxUwHLR5yk-VmJYFt7AuZKTqzI7n1im9SOTEk9qWAeEoQcfZ8l5g&amp;s\"/>,\n",
       " <img alt=\"\" class=\"DS1iW\" src=\"https://encrypted-tbn0.gstatic.com/images?q=tbn:ANd9GcQ4bZhNNVCbthTCApXsSNKWFth0vpsZ_6c-wVTFIV-E8ABkytP_9nqi4CCIWg&amp;s\"/>,\n",
       " <img alt=\"\" class=\"DS1iW\" src=\"https://encrypted-tbn0.gstatic.com/images?q=tbn:ANd9GcSftzxsGcyIyn_OB2mQFSjeln7vtLq2LVMK3Oa4k9uPaCQr2r_Pq54Vqo8uZw&amp;s\"/>,\n",
       " <img alt=\"\" class=\"DS1iW\" src=\"https://encrypted-tbn0.gstatic.com/images?q=tbn:ANd9GcS6PtbO3oSFgC1yh6BPlre0Sr5h3aca6UrEmg7ibGUrD1g40Xm5cZBGYl7G3PU&amp;s\"/>,\n",
       " <img alt=\"\" class=\"DS1iW\" src=\"https://encrypted-tbn0.gstatic.com/images?q=tbn:ANd9GcRiUjYXnbLzwPnTzycn2ItHcUl6UbhYTYYF8JbaVC3rKLx4vjrTBnan-RRZq7Q&amp;s\"/>,\n",
       " <img alt=\"\" class=\"DS1iW\" src=\"https://encrypted-tbn0.gstatic.com/images?q=tbn:ANd9GcRur88TscLQUC9zZI59lVf0CGH20SM8vzN7kJkSuXVx6cLhGsgyeAURTECl_w&amp;s\"/>,\n",
       " <img alt=\"\" class=\"DS1iW\" src=\"https://encrypted-tbn0.gstatic.com/images?q=tbn:ANd9GcSwq0dm9LsIJFXhVpVi2-xb2VQSTdG7Tb92l9AIyKFFgrYonh1FnTbuvi-3Cw&amp;s\"/>]"
      ]
     },
     "execution_count": 29,
     "metadata": {},
     "output_type": "execute_result"
    }
   ],
   "source": [
    "image_tags"
   ]
  },
  {
   "cell_type": "code",
   "execution_count": 41,
   "id": "6fafed54-e90c-4898-b716-40bc0a2afd68",
   "metadata": {},
   "outputs": [],
   "source": [
    "del image_tags[0]"
   ]
  },
  {
   "cell_type": "code",
   "execution_count": 31,
   "id": "07134346-bbed-422c-90c7-788767cea808",
   "metadata": {},
   "outputs": [
    {
     "data": {
      "text/plain": [
       "[<img alt=\"\" class=\"DS1iW\" src=\"https://encrypted-tbn0.gstatic.com/images?q=tbn:ANd9GcQ91bYeYuNi93Snai-G61-ct5IkXUEpoeW1RpiOFFuRWggNeJf-7uN0OZsy5XI&amp;s\"/>,\n",
       " <img alt=\"\" class=\"DS1iW\" src=\"https://encrypted-tbn0.gstatic.com/images?q=tbn:ANd9GcSt6JbUu_u8mLsXErBkse1hZNl8-r22Zqil2frfbsAkT7nDNBtdmtWq_uNmfiU&amp;s\"/>,\n",
       " <img alt=\"\" class=\"DS1iW\" src=\"https://encrypted-tbn0.gstatic.com/images?q=tbn:ANd9GcQY_R5NSNoZkSlMo3hf86COGJ4fCv0s6Nx4k8uCGkWc6YGOn_m4-rIOQ3GhOhg&amp;s\"/>,\n",
       " <img alt=\"\" class=\"DS1iW\" src=\"https://encrypted-tbn0.gstatic.com/images?q=tbn:ANd9GcSa72n9HkcgST9V0llVSF4d4L2_jU1OqE-ozzTbcDhKyNLbnCbZOqqJtBPrBCs&amp;s\"/>,\n",
       " <img alt=\"\" class=\"DS1iW\" src=\"https://encrypted-tbn0.gstatic.com/images?q=tbn:ANd9GcTvRhpVZcFwLql7ExVAzuzR-AxReSfck1xmO0e4M22euwDoLCezfdRw3xCiSYQ&amp;s\"/>,\n",
       " <img alt=\"\" class=\"DS1iW\" src=\"https://encrypted-tbn0.gstatic.com/images?q=tbn:ANd9GcSiMxLXqEb2GCxNhjyEMLn-TBKonIxC5GSMi_JeSbKv8XhscW6eLoy6FiUhp4g&amp;s\"/>,\n",
       " <img alt=\"\" class=\"DS1iW\" src=\"https://encrypted-tbn0.gstatic.com/images?q=tbn:ANd9GcSpDJp2s9LsfHhhW55SvGS_7VYcSGsOlGLstzSzOyiVIVoguxWbmobejo9NEw&amp;s\"/>,\n",
       " <img alt=\"\" class=\"DS1iW\" src=\"https://encrypted-tbn0.gstatic.com/images?q=tbn:ANd9GcTTG4rugaxPS8InZaANy1zhgzF-iAEFYj2n7SazzZkkVNIGLYsG1UPi6vsIGg&amp;s\"/>,\n",
       " <img alt=\"\" class=\"DS1iW\" src=\"https://encrypted-tbn0.gstatic.com/images?q=tbn:ANd9GcS6mPr1g683xgMlTnJfswzPyIjixDUJCLKR_GUOYd43dGj0LB8Uum64r_cOjl4&amp;s\"/>,\n",
       " <img alt=\"\" class=\"DS1iW\" src=\"https://encrypted-tbn0.gstatic.com/images?q=tbn:ANd9GcT0ZAdn_My5KuVG4zxIWGddSKtkiOm3OW3HVjsajAQiKucw4r8bjNiq8iqMbA&amp;s\"/>,\n",
       " <img alt=\"\" class=\"DS1iW\" src=\"https://encrypted-tbn0.gstatic.com/images?q=tbn:ANd9GcTvewo3-e7y-JsV16EL3q3EaMThVwCiuN7DD1_KTctFNodySZtMVcuOKk5uUQ&amp;s\"/>,\n",
       " <img alt=\"\" class=\"DS1iW\" src=\"https://encrypted-tbn0.gstatic.com/images?q=tbn:ANd9GcTTvtvdec6HsPF9UBmsdDH5RId_eDLtzHxuhYYTEF5DXt57-f6PdWpQgFl_YKo&amp;s\"/>,\n",
       " <img alt=\"\" class=\"DS1iW\" src=\"https://encrypted-tbn0.gstatic.com/images?q=tbn:ANd9GcSbo0Grin8MF7QBhw6kYyy4_xP2oiBBGg-ToiS1BMNQvqh2ixfbFTGcygKp6Sw&amp;s\"/>,\n",
       " <img alt=\"\" class=\"DS1iW\" src=\"https://encrypted-tbn0.gstatic.com/images?q=tbn:ANd9GcRQZseQ9bRxUwHLR5yk-VmJYFt7AuZKTqzI7n1im9SOTEk9qWAeEoQcfZ8l5g&amp;s\"/>,\n",
       " <img alt=\"\" class=\"DS1iW\" src=\"https://encrypted-tbn0.gstatic.com/images?q=tbn:ANd9GcQ4bZhNNVCbthTCApXsSNKWFth0vpsZ_6c-wVTFIV-E8ABkytP_9nqi4CCIWg&amp;s\"/>,\n",
       " <img alt=\"\" class=\"DS1iW\" src=\"https://encrypted-tbn0.gstatic.com/images?q=tbn:ANd9GcSftzxsGcyIyn_OB2mQFSjeln7vtLq2LVMK3Oa4k9uPaCQr2r_Pq54Vqo8uZw&amp;s\"/>,\n",
       " <img alt=\"\" class=\"DS1iW\" src=\"https://encrypted-tbn0.gstatic.com/images?q=tbn:ANd9GcS6PtbO3oSFgC1yh6BPlre0Sr5h3aca6UrEmg7ibGUrD1g40Xm5cZBGYl7G3PU&amp;s\"/>,\n",
       " <img alt=\"\" class=\"DS1iW\" src=\"https://encrypted-tbn0.gstatic.com/images?q=tbn:ANd9GcRiUjYXnbLzwPnTzycn2ItHcUl6UbhYTYYF8JbaVC3rKLx4vjrTBnan-RRZq7Q&amp;s\"/>,\n",
       " <img alt=\"\" class=\"DS1iW\" src=\"https://encrypted-tbn0.gstatic.com/images?q=tbn:ANd9GcRur88TscLQUC9zZI59lVf0CGH20SM8vzN7kJkSuXVx6cLhGsgyeAURTECl_w&amp;s\"/>,\n",
       " <img alt=\"\" class=\"DS1iW\" src=\"https://encrypted-tbn0.gstatic.com/images?q=tbn:ANd9GcSwq0dm9LsIJFXhVpVi2-xb2VQSTdG7Tb92l9AIyKFFgrYonh1FnTbuvi-3Cw&amp;s\"/>]"
      ]
     },
     "execution_count": 31,
     "metadata": {},
     "output_type": "execute_result"
    }
   ],
   "source": [
    "image_tags"
   ]
  },
  {
   "cell_type": "code",
   "execution_count": 42,
   "id": "966d508c-7761-414c-8cb0-9dcd1f321da0",
   "metadata": {},
   "outputs": [],
   "source": [
    "for i in image_tags:\n",
    "    image_url=i['src']\n",
    "    image_data=requests.get(image_url).content\n",
    "    with open (os.path.join(save_dir,f\"{query}_{image_tags.index(i)}.jpg\"),\"wb\") as f:\n",
    "        f.write(image_data)"
   ]
  },
  {
   "cell_type": "code",
   "execution_count": null,
   "id": "b5eb2d1f-618e-47d5-b4f5-bc35976e5271",
   "metadata": {},
   "outputs": [],
   "source": []
  }
 ],
 "metadata": {
  "kernelspec": {
   "display_name": "Python 3 (ipykernel)",
   "language": "python",
   "name": "python3"
  },
  "language_info": {
   "codemirror_mode": {
    "name": "ipython",
    "version": 3
   },
   "file_extension": ".py",
   "mimetype": "text/x-python",
   "name": "python",
   "nbconvert_exporter": "python",
   "pygments_lexer": "ipython3",
   "version": "3.8.17"
  }
 },
 "nbformat": 4,
 "nbformat_minor": 5
}
